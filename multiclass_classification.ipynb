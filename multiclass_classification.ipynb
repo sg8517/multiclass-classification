{
  "nbformat": 4,
  "nbformat_minor": 0,
  "metadata": {
    "colab": {
      "provenance": [],
      "gpuType": "T4"
    },
    "kernelspec": {
      "name": "python3",
      "display_name": "Python 3"
    },
    "language_info": {
      "name": "python"
    },
    "accelerator": "GPU"
  },
  "cells": [
    {
      "cell_type": "code",
      "execution_count": 61,
      "metadata": {
        "colab": {
          "base_uri": "https://localhost:8080/"
        },
        "id": "4Lsgn_dOXnPv",
        "outputId": "bc2e2262-662d-4956-cfae-79c4daa35dc9"
      },
      "outputs": [
        {
          "output_type": "stream",
          "name": "stdout",
          "text": [
            "fatal: destination path 'classificationmulticlass' already exists and is not an empty directory.\n"
          ]
        }
      ],
      "source": [
        "!git clone \"https://github.com/sg8517/classificationmulticlass.git\""
      ]
    },
    {
      "cell_type": "code",
      "source": [
        "import tensorflow as tf\n",
        "from keras.preprocessing.image import ImageDataGenerator"
      ],
      "metadata": {
        "id": "z3A-akv3Xvqq"
      },
      "execution_count": 62,
      "outputs": []
    },
    {
      "cell_type": "code",
      "source": [
        "tf.__version__"
      ],
      "metadata": {
        "colab": {
          "base_uri": "https://localhost:8080/",
          "height": 35
        },
        "id": "PKdMR9tHXzOX",
        "outputId": "141167e7-f2d0-4f8a-f4f4-f4bfe74078a1"
      },
      "execution_count": 63,
      "outputs": [
        {
          "output_type": "execute_result",
          "data": {
            "text/plain": [
              "'2.14.0'"
            ],
            "application/vnd.google.colaboratory.intrinsic+json": {
              "type": "string"
            }
          },
          "metadata": {},
          "execution_count": 63
        }
      ]
    },
    {
      "cell_type": "code",
      "source": [
        "import pandas as pd"
      ],
      "metadata": {
        "id": "iycrUp44X2WO"
      },
      "execution_count": 64,
      "outputs": []
    },
    {
      "cell_type": "code",
      "source": [
        "train_datagen = ImageDataGenerator(rescale = 1./255,\n",
        "                                   shear_range = 0.2,\n",
        "                                   zoom_range = 0.2,\n",
        "                                   horizontal_flip = True)\n",
        "\n",
        "training_set = train_datagen.flow_from_directory('/content/classificationmulticlass/Dataset/training',\n",
        "                                                 target_size = (64, 64),\n",
        "                                                 batch_size = 32,\n",
        "                                                 class_mode = 'categorical')\n"
      ],
      "metadata": {
        "colab": {
          "base_uri": "https://localhost:8080/"
        },
        "id": "a0C6wN-GX9SM",
        "outputId": "d8807d16-fe4d-4ed2-a9e7-96ff1ada3874"
      },
      "execution_count": 65,
      "outputs": [
        {
          "output_type": "stream",
          "name": "stdout",
          "text": [
            "Found 27 images belonging to 5 classes.\n"
          ]
        }
      ]
    },
    {
      "cell_type": "code",
      "source": [
        "test_datagen = ImageDataGenerator(rescale = 1./255)\n",
        "test_set = test_datagen.flow_from_directory('/content/classificationmulticlass/Dataset/testing',\n",
        "                                            target_size = (64, 64),\n",
        "                                            batch_size = 32,\n",
        "                                            class_mode = 'categorical')"
      ],
      "metadata": {
        "colab": {
          "base_uri": "https://localhost:8080/"
        },
        "id": "SFGY57pqZGcn",
        "outputId": "1fba24fd-e1a8-4012-ccd4-2e9ae2209286"
      },
      "execution_count": 66,
      "outputs": [
        {
          "output_type": "stream",
          "name": "stdout",
          "text": [
            "Found 15 images belonging to 5 classes.\n"
          ]
        }
      ]
    },
    {
      "cell_type": "code",
      "source": [
        "cnn = tf.keras.models.Sequential()"
      ],
      "metadata": {
        "id": "kOKMHtH0ZTPG"
      },
      "execution_count": 67,
      "outputs": []
    },
    {
      "cell_type": "code",
      "source": [
        "cnn.add(tf.keras.layers.Conv2D(filters=32, kernel_size=3, activation='relu',\n",
        "                               input_shape=[64, 64, 3]))"
      ],
      "metadata": {
        "id": "IiDv4BmhZW7F"
      },
      "execution_count": 68,
      "outputs": []
    },
    {
      "cell_type": "code",
      "source": [
        "cnn.add(tf.keras.layers.MaxPool2D(pool_size=2, strides=2))"
      ],
      "metadata": {
        "id": "BCjn91KnZcYQ"
      },
      "execution_count": 69,
      "outputs": []
    },
    {
      "cell_type": "code",
      "source": [
        "cnn.add(tf.keras.layers.Conv2D(filters=32, kernel_size=3, activation='relu'))\n",
        "cnn.add(tf.keras.layers.MaxPool2D(pool_size=2, strides=2))"
      ],
      "metadata": {
        "id": "H0vo72nHZfee"
      },
      "execution_count": 70,
      "outputs": []
    },
    {
      "cell_type": "code",
      "source": [
        "cnn.add(tf.keras.layers.Flatten())"
      ],
      "metadata": {
        "id": "s7zRzJ-AZmR4"
      },
      "execution_count": 71,
      "outputs": []
    },
    {
      "cell_type": "code",
      "source": [
        "cnn.add(tf.keras.layers.Dense(units=5, activation='relu'))"
      ],
      "metadata": {
        "id": "AjT3UrVFZpQg"
      },
      "execution_count": 72,
      "outputs": []
    },
    {
      "cell_type": "code",
      "source": [
        "cnn.add(tf.keras.layers.Dense(units=5, activation='softmax'))"
      ],
      "metadata": {
        "id": "JMpabD1VZv9M"
      },
      "execution_count": 73,
      "outputs": []
    },
    {
      "cell_type": "code",
      "source": [
        "cnn.compile(optimizer = 'adam', loss = 'categorical_crossentropy', metrics = ['accuracy'])"
      ],
      "metadata": {
        "id": "QIKAEoaAaDVQ"
      },
      "execution_count": 74,
      "outputs": []
    },
    {
      "cell_type": "code",
      "source": [
        "cnn.fit(x = training_set, validation_data = test_set, epochs = 25)"
      ],
      "metadata": {
        "colab": {
          "base_uri": "https://localhost:8080/"
        },
        "id": "084D6tuAaohR",
        "outputId": "f3f29a38-2d45-4d9f-b713-5a0bbacdc3d1"
      },
      "execution_count": 75,
      "outputs": [
        {
          "output_type": "stream",
          "name": "stdout",
          "text": [
            "Epoch 1/25\n",
            "1/1 [==============================] - 2s 2s/step - loss: 1.6052 - accuracy: 0.3704 - val_loss: 1.6189 - val_accuracy: 0.2000\n",
            "Epoch 2/25\n",
            "1/1 [==============================] - 1s 663ms/step - loss: 1.6295 - accuracy: 0.1852 - val_loss: 1.6001 - val_accuracy: 0.4000\n",
            "Epoch 3/25\n",
            "1/1 [==============================] - 1s 1s/step - loss: 1.5826 - accuracy: 0.4074 - val_loss: 1.5860 - val_accuracy: 0.2000\n",
            "Epoch 4/25\n",
            "1/1 [==============================] - 1s 1s/step - loss: 1.5574 - accuracy: 0.2593 - val_loss: 1.5615 - val_accuracy: 0.2000\n",
            "Epoch 5/25\n",
            "1/1 [==============================] - 1s 697ms/step - loss: 1.5354 - accuracy: 0.2222 - val_loss: 1.5397 - val_accuracy: 0.2667\n",
            "Epoch 6/25\n",
            "1/1 [==============================] - 1s 661ms/step - loss: 1.5125 - accuracy: 0.3333 - val_loss: 1.5019 - val_accuracy: 0.5333\n",
            "Epoch 7/25\n",
            "1/1 [==============================] - 1s 711ms/step - loss: 1.4797 - accuracy: 0.5185 - val_loss: 1.4659 - val_accuracy: 0.6000\n",
            "Epoch 8/25\n",
            "1/1 [==============================] - 1s 663ms/step - loss: 1.4394 - accuracy: 0.6296 - val_loss: 1.4274 - val_accuracy: 0.6000\n",
            "Epoch 9/25\n",
            "1/1 [==============================] - 1s 711ms/step - loss: 1.4081 - accuracy: 0.5926 - val_loss: 1.3836 - val_accuracy: 0.4667\n",
            "Epoch 10/25\n",
            "1/1 [==============================] - 1s 647ms/step - loss: 1.3606 - accuracy: 0.5556 - val_loss: 1.3446 - val_accuracy: 0.6000\n",
            "Epoch 11/25\n",
            "1/1 [==============================] - 1s 696ms/step - loss: 1.2891 - accuracy: 0.5926 - val_loss: 1.3026 - val_accuracy: 0.5333\n",
            "Epoch 12/25\n",
            "1/1 [==============================] - 1s 690ms/step - loss: 1.2673 - accuracy: 0.4815 - val_loss: 1.2622 - val_accuracy: 0.6000\n",
            "Epoch 13/25\n",
            "1/1 [==============================] - 1s 652ms/step - loss: 1.2336 - accuracy: 0.5556 - val_loss: 1.2137 - val_accuracy: 0.6000\n",
            "Epoch 14/25\n",
            "1/1 [==============================] - 1s 647ms/step - loss: 1.1782 - accuracy: 0.6296 - val_loss: 1.1564 - val_accuracy: 0.6000\n",
            "Epoch 15/25\n",
            "1/1 [==============================] - 1s 665ms/step - loss: 1.1259 - accuracy: 0.6296 - val_loss: 1.1036 - val_accuracy: 0.6000\n",
            "Epoch 16/25\n",
            "1/1 [==============================] - 1s 951ms/step - loss: 1.0924 - accuracy: 0.6667 - val_loss: 1.0770 - val_accuracy: 0.4667\n",
            "Epoch 17/25\n",
            "1/1 [==============================] - 1s 861ms/step - loss: 1.0524 - accuracy: 0.5556 - val_loss: 1.0316 - val_accuracy: 0.6000\n",
            "Epoch 18/25\n",
            "1/1 [==============================] - 1s 659ms/step - loss: 0.9832 - accuracy: 0.6667 - val_loss: 0.9952 - val_accuracy: 0.6000\n",
            "Epoch 19/25\n",
            "1/1 [==============================] - 1s 661ms/step - loss: 0.9711 - accuracy: 0.6667 - val_loss: 0.9321 - val_accuracy: 0.4667\n",
            "Epoch 20/25\n",
            "1/1 [==============================] - 1s 678ms/step - loss: 0.8929 - accuracy: 0.5926 - val_loss: 0.8897 - val_accuracy: 0.6000\n",
            "Epoch 21/25\n",
            "1/1 [==============================] - 1s 670ms/step - loss: 0.8757 - accuracy: 0.6667 - val_loss: 0.9515 - val_accuracy: 0.6000\n",
            "Epoch 22/25\n",
            "1/1 [==============================] - 1s 652ms/step - loss: 0.8647 - accuracy: 0.6667 - val_loss: 0.9159 - val_accuracy: 0.5333\n",
            "Epoch 23/25\n",
            "1/1 [==============================] - 1s 657ms/step - loss: 0.8687 - accuracy: 0.5926 - val_loss: 0.8086 - val_accuracy: 0.6000\n",
            "Epoch 24/25\n",
            "1/1 [==============================] - 1s 646ms/step - loss: 0.8134 - accuracy: 0.5926 - val_loss: 0.7805 - val_accuracy: 0.6667\n",
            "Epoch 25/25\n",
            "1/1 [==============================] - 1s 660ms/step - loss: 0.8052 - accuracy: 0.6296 - val_loss: 0.8083 - val_accuracy: 0.6667\n"
          ]
        },
        {
          "output_type": "execute_result",
          "data": {
            "text/plain": [
              "<keras.src.callbacks.History at 0x784de38c6320>"
            ]
          },
          "metadata": {},
          "execution_count": 75
        }
      ]
    },
    {
      "cell_type": "code",
      "source": [
        "import numpy as np\n",
        "from keras.preprocessing import image\n",
        "\n",
        "test_image = tf.keras.utils.load_img('/content/classificationmulticlass/Dataset/single prediction/2.jpeg',\n",
        "                            target_size = (64, 64))\n",
        "#test_image = tf.keras.utils.load_img(test_image)\n",
        "test_image = np.expand_dims(test_image, axis = 0)\n",
        "result = cnn.predict(test_image)\n",
        "print(result)\n",
        "training_set.class_indices\n",
        "label=[\"abinaya\",\"bakyalakshmi\",\"kavipriya\",\"neenu\",\"sangeetha\"]\n",
        "for i in label:\n",
        "  if result[0][label.index(i)]==1:\n",
        "    break\n",
        "\n",
        "\n",
        "\n",
        "prediction = i\n",
        "print(label.index(i))\n",
        "print(prediction)\n",
        "\n",
        "\n"
      ],
      "metadata": {
        "colab": {
          "base_uri": "https://localhost:8080/"
        },
        "id": "pUyiRpEcbE8S",
        "outputId": "0d70eb9a-097a-4515-c70e-e6c4f8d447d6"
      },
      "execution_count": 80,
      "outputs": [
        {
          "output_type": "stream",
          "name": "stdout",
          "text": [
            "1/1 [==============================] - 0s 17ms/step\n",
            "[[0. 1. 0. 0. 0.]]\n",
            "1\n",
            "bakyalakshmi\n"
          ]
        }
      ]
    },
    {
      "cell_type": "code",
      "source": [
        "print(prediction)"
      ],
      "metadata": {
        "colab": {
          "base_uri": "https://localhost:8080/"
        },
        "id": "nkc7UYGkbX1L",
        "outputId": "c197f694-5ea9-40dd-819b-0b29ce9c5c80"
      },
      "execution_count": 81,
      "outputs": [
        {
          "output_type": "stream",
          "name": "stdout",
          "text": [
            "bakyalakshmi\n"
          ]
        }
      ]
    }
  ]
}